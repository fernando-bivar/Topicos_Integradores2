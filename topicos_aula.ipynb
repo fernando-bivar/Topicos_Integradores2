{
  "nbformat": 4,
  "nbformat_minor": 0,
  "metadata": {
    "colab": {
      "name": "topicos_aula.ipynb",
      "version": "0.3.2",
      "provenance": [],
      "include_colab_link": true
    },
    "kernelspec": {
      "name": "python3",
      "display_name": "Python 3"
    }
  },
  "cells": [
    {
      "cell_type": "markdown",
      "metadata": {
        "id": "view-in-github",
        "colab_type": "text"
      },
      "source": [
        "<a href=\"https://colab.research.google.com/github/fernando-bivar/Topicos_Integradores2/blob/master/topicos_aula.ipynb\" target=\"_parent\"><img src=\"https://colab.research.google.com/assets/colab-badge.svg\" alt=\"Open In Colab\"/></a>"
      ]
    },
    {
      "cell_type": "markdown",
      "metadata": {
        "id": "lskdD1AXMsGO",
        "colab_type": "text"
      },
      "source": [
        "**QUESTÃO 1**"
      ]
    },
    {
      "cell_type": "code",
      "metadata": {
        "id": "R9K1NjkMA3Ey",
        "colab_type": "code",
        "colab": {}
      },
      "source": [
        "def Fatorial (a,b):\n",
        "  a = a*b\n",
        "  b = b-1\n",
        "  if b <= 0:\n",
        "    print(a)\n",
        "  else:\n",
        "    Fatorial(a,b)\n",
        "\n",
        "def main():\n",
        "  a = 5\n",
        "  b = a - 1\n",
        "  Fatorial(a,b)\n",
        "\n",
        "main()"
      ],
      "execution_count": 0,
      "outputs": []
    },
    {
      "cell_type": "markdown",
      "metadata": {
        "id": "sGOQal1GM7JK",
        "colab_type": "text"
      },
      "source": [
        "**QUESTÃO 2**"
      ]
    },
    {
      "cell_type": "code",
      "metadata": {
        "id": "4hClUzFcJ8pJ",
        "colab_type": "code",
        "colab": {}
      },
      "source": [
        "n = 512\n",
        "if n%2 == 0:\n",
        "  print('PAR')\n",
        "else:\n",
        "  print('IMPAR')"
      ],
      "execution_count": 0,
      "outputs": []
    },
    {
      "cell_type": "markdown",
      "metadata": {
        "id": "UDQFcusyNA2_",
        "colab_type": "text"
      },
      "source": [
        "**QUESTÃO 3**"
      ]
    },
    {
      "cell_type": "code",
      "metadata": {
        "id": "fN6DSMt6MTA5",
        "colab_type": "code",
        "colab": {}
      },
      "source": [
        "def Triangular(n,a):\n",
        "  if a*(a+1)*(a+2) == n :\n",
        "    print(\"NÚMERO TRIANGULAR\")\n",
        "  else:\n",
        "    a = a+1\n",
        "    try:\n",
        "      Triangular(n,a)\n",
        "    except RecursionError:\n",
        "      print(\"NÚMERO NÃO TRIANGULAR\")\n",
        "\n",
        "def main():\n",
        "  n = 9240\n",
        "  a = 1\n",
        "  if n <= 0 :\n",
        "    print(\"Você digitou um número negativo\")\n",
        "  else:\n",
        "    Triangular(n,a)\n",
        "  \n",
        "main()"
      ],
      "execution_count": 0,
      "outputs": []
    },
    {
      "cell_type": "markdown",
      "metadata": {
        "id": "w7nxPORkSDIf",
        "colab_type": "text"
      },
      "source": [
        "**Questão 4**"
      ]
    },
    {
      "cell_type": "code",
      "metadata": {
        "id": "AgmpmP_9R6Rc",
        "colab_type": "code",
        "colab": {}
      },
      "source": [
        "def Moda(lista):\n",
        "  cont = 0\n",
        "  moda = 0\n",
        "  sorted(lista)\n",
        "  for i in range (0,len(lista)-1):\n",
        "    if lista[i] == lista[i+1] :\n",
        "      cont = cont + 1\n",
        "      moda = lista[i]\n",
        "    else:\n",
        "      cont = 0\n",
        "  print(moda)\n",
        "\n",
        "def main():\n",
        "  lista = [5,2,2,2,4,5,4,5,5]\n",
        "  Moda(lista)\n",
        "\n",
        "main()"
      ],
      "execution_count": 0,
      "outputs": []
    }
  ]
}